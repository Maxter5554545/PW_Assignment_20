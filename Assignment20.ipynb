{
 "cells": [
  {
   "cell_type": "code",
   "execution_count": 1,
   "id": "a31d6ecc-2ade-4682-a6b6-5d102fb09049",
   "metadata": {},
   "outputs": [],
   "source": [
    "import logging\n",
    "logging.basicConfig(filename=\"ass20.log\", level=logging.DEBUG)"
   ]
  },
  {
   "cell_type": "code",
   "execution_count": null,
   "id": "243c131d-562c-4a99-897d-47611dacec06",
   "metadata": {},
   "outputs": [],
   "source": [
    "# Q1. What is Web Scraping? Why is it Used? Give three areas where Web Scraping is used to get data.\n",
    "try:\n",
    "    logging.info('''Web Scraping is a technique mostly used in backends, it is used to scrape the data from a particular website. It is highly used in data extraction, data mining, & competetive analysis''')\n",
    "except TypeError as t:\n",
    "    logging.error(t)"
   ]
  },
  {
   "cell_type": "code",
   "execution_count": 2,
   "id": "0e023787-6b97-40b6-9879-1539f65be7c1",
   "metadata": {},
   "outputs": [],
   "source": [
    "# Q2. What are the different methods used for Web Scraping?\n",
    "try:\n",
    "    logging.info(\"Different methods used for Web Scraping are =>\\nPOST request, GET request, Parsing web-sites through html & beautiful soup\")\n",
    "except TypeError as t:\n",
    "    logging.error(t)"
   ]
  },
  {
   "cell_type": "code",
   "execution_count": null,
   "id": "f424d9ae-a189-4095-a5b0-33607b48a47d",
   "metadata": {},
   "outputs": [],
   "source": [
    "# Q3. What is Beautiful Soup? Why is it used?\n",
    "try:\n",
    "    logging.info(\"Beautiful Soup is a python library in Python Programming which is generally used for web scraping or data extraction. It is also used to format the raw scrapped document of the web site\")\n",
    "except TypeError as t:\n",
    "    logging.error(t)"
   ]
  },
  {
   "cell_type": "code",
   "execution_count": null,
   "id": "6a5903e4-779a-48a5-92a2-954c01b71704",
   "metadata": {},
   "outputs": [],
   "source": [
    "# Q4. Why is flask used in this Web Scraping project?\n",
    "try:\n",
    "    logging.info(\"Flask is a module in python libraries used for backend or server side data scraping. It uses pythonic syntax for some Scraping the websites\")\n",
    "except TypeError as t:\n",
    "    logging.error(t)"
   ]
  },
  {
   "cell_type": "code",
   "execution_count": null,
   "id": "e9695a75-de1b-442b-8508-ed9e838c4b63",
   "metadata": {},
   "outputs": [],
   "source": [
    "# Q5. Write the names of AWS services used in this project. Also, explain the use of each service.\n",
    "try:\n",
    "    logging.info(\"Beenstack was used in AWS services for the deployment in this project. \")\n",
    "except TypeError as t:\n",
    "    logging.error(t)"
   ]
  }
 ],
 "metadata": {
  "kernelspec": {
   "display_name": "Python 3 (ipykernel)",
   "language": "python",
   "name": "python3"
  },
  "language_info": {
   "codemirror_mode": {
    "name": "ipython",
    "version": 3
   },
   "file_extension": ".py",
   "mimetype": "text/x-python",
   "name": "python",
   "nbconvert_exporter": "python",
   "pygments_lexer": "ipython3",
   "version": "3.10.8"
  }
 },
 "nbformat": 4,
 "nbformat_minor": 5
}
